{
 "cells": [
  {
   "cell_type": "markdown",
   "id": "ec842bfb",
   "metadata": {},
   "source": [
    "In the below steps, I will build a convolution neural network architecture and train the model on FER2013 dataset for Emotion recognition from images."
   ]
  },
  {
   "cell_type": "code",
   "execution_count": 1,
   "id": "5487e323",
   "metadata": {},
   "outputs": [],
   "source": [
    "%matplotlib inline\n",
    "\n",
    "#importing required libraries\n",
    "import numpy as np\n",
    "import pandas as pd\n",
    "import seaborn as sns\n",
    "import matplotlib.pyplot as plt\n",
    "import utils\n",
    "import os\n",
    "\n",
    "import tensorflow as tf\n",
    "from keras import regularizers\n",
    "from tensorflow.keras.preprocessing.image import ImageDataGenerator, load_img\n",
    "from tensorflow.keras.layers import Dense, Input, Dropout, Flatten, Conv2D, BatchNormalization, Activation, MaxPooling2D \n",
    "from tensorflow.keras.models import Model, Sequential\n",
    "from tensorflow.keras.optimizers import Adam\n",
    "from tensorflow.keras.utils import plot_model\n",
    "import cv2 #opencv \n",
    "\n",
    "from IPython.display import SVG, Image\n",
    "# print(\"Tensorflow version:\", tf.__version__)\n",
    "\n",
    "#required libraries for song recommendation\n",
    "import os\n",
    "import sys\n",
    "import json\n",
    "import spotipy\n",
    "import webbrowser\n",
    "import spotipy.util as util\n",
    "from json.decoder import JSONDecodeError"
   ]
  },
  {
   "cell_type": "markdown",
   "id": "5e59add7",
   "metadata": {},
   "source": [
    "Initializing training and validation generators"
   ]
  },
  {
   "cell_type": "code",
   "execution_count": 2,
   "id": "03e3e52e",
   "metadata": {},
   "outputs": [
    {
     "name": "stdout",
     "output_type": "stream",
     "text": [
      "Found 28709 images belonging to 7 classes.\n",
      "Found 7178 images belonging to 7 classes.\n"
     ]
    }
   ],
   "source": [
    "train_dir = \"./data/train\" #train data\n",
    "val_dir = \"./data/test\" #test data\n",
    "\n",
    "#image augmentation-rescale - here it transforms every pixel values from range [0,255] to range [0,1] - this allows in treating all the images in the same manner (contributes evenly to the total loss)\n",
    "train_datagen = ImageDataGenerator(rescale=1./255)\n",
    "val_datagen = ImageDataGenerator(rescale=1./255)\n",
    "\n",
    "#this allows us to read the images directly from the directory and augument them when the neural network model is learning on the training data\n",
    "train_generator = train_datagen.flow_from_directory( \n",
    "        train_dir,\n",
    "        target_size=(48,48), #size of the input image\n",
    "        batch_size=64, #no. of images to extract from folder for every batch\n",
    "        color_mode=\"grayscale\", #set to grayscale\n",
    "        class_mode=\"categorical\")#classes to predict\n",
    "\n",
    "validation_generator = val_datagen.flow_from_directory(\n",
    "        val_dir,\n",
    "        target_size=(48,48),\n",
    "        batch_size=64,\n",
    "        color_mode=\"grayscale\",\n",
    "        class_mode=\"categorical\")"
   ]
  },
  {
   "cell_type": "markdown",
   "id": "4ee10de7",
   "metadata": {},
   "source": [
    "Building convolutional neural network architecture"
   ]
  },
  {
   "cell_type": "code",
   "execution_count": 3,
   "id": "cf46fea1",
   "metadata": {},
   "outputs": [
    {
     "name": "stderr",
     "output_type": "stream",
     "text": [
      "2022-12-09 18:43:19.870445: I tensorflow/core/platform/cpu_feature_guard.cc:193] This TensorFlow binary is optimized with oneAPI Deep Neural Network Library (oneDNN) to use the following CPU instructions in performance-critical operations:  SSE4.1 SSE4.2\n",
      "To enable them in other operations, rebuild TensorFlow with the appropriate compiler flags.\n"
     ]
    }
   ],
   "source": [
    "#sequential model\n",
    "emotion_model = Sequential()"
   ]
  },
  {
   "cell_type": "code",
   "execution_count": 4,
   "id": "eccd8182",
   "metadata": {},
   "outputs": [],
   "source": [
    "# build the model \n",
    "emotion_model.add(Conv2D(32, kernel_size=(3, 3), activation='relu', input_shape=(48,48,1))) #learning a total of 32 filters\n",
    "\n",
    "emotion_model.add(Conv2D(64, kernel_size=(3, 3), activation='relu')) #learning a total of 64 filters\n",
    "emotion_model.add(MaxPooling2D(pool_size=(2, 2))) # to reduce the spatial dimensions of the output volume or downsampling\n",
    "emotion_model.add(Dropout(0.25)) #to reduce the occurrence of overfitting\n",
    "\n",
    "emotion_model.add(Conv2D(128, kernel_size=(3, 3), activation='relu'))\n",
    "emotion_model.add(MaxPooling2D(pool_size=(2, 2)))\n",
    "\n",
    "emotion_model.add(Conv2D(128, kernel_size=(3, 3), activation='relu'))\n",
    "emotion_model.add(MaxPooling2D(pool_size=(2, 2)))\n",
    "emotion_model.add(Dropout(0.25))\n",
    "\n",
    "emotion_model.add(Flatten()) # flattens the output of conolutional layer to 1D array\n",
    "emotion_model.add(Dense(1024, activation='relu'))\n",
    "emotion_model.add(Dropout(0.5))\n",
    "emotion_model.add(Dense(7, activation='softmax'))\n"
   ]
  },
  {
   "cell_type": "code",
   "execution_count": 5,
   "id": "13eace95",
   "metadata": {},
   "outputs": [
    {
     "name": "stdout",
     "output_type": "stream",
     "text": [
      "Model: \"sequential\"\n",
      "_________________________________________________________________\n",
      " Layer (type)                Output Shape              Param #   \n",
      "=================================================================\n",
      " conv2d (Conv2D)             (None, 46, 46, 32)        320       \n",
      "                                                                 \n",
      " conv2d_1 (Conv2D)           (None, 44, 44, 64)        18496     \n",
      "                                                                 \n",
      " max_pooling2d (MaxPooling2D  (None, 22, 22, 64)       0         \n",
      " )                                                               \n",
      "                                                                 \n",
      " dropout (Dropout)           (None, 22, 22, 64)        0         \n",
      "                                                                 \n",
      " conv2d_2 (Conv2D)           (None, 20, 20, 128)       73856     \n",
      "                                                                 \n",
      " max_pooling2d_1 (MaxPooling  (None, 10, 10, 128)      0         \n",
      " 2D)                                                             \n",
      "                                                                 \n",
      " conv2d_3 (Conv2D)           (None, 8, 8, 128)         147584    \n",
      "                                                                 \n",
      " max_pooling2d_2 (MaxPooling  (None, 4, 4, 128)        0         \n",
      " 2D)                                                             \n",
      "                                                                 \n",
      " dropout_1 (Dropout)         (None, 4, 4, 128)         0         \n",
      "                                                                 \n",
      " flatten (Flatten)           (None, 2048)              0         \n",
      "                                                                 \n",
      " dense (Dense)               (None, 1024)              2098176   \n",
      "                                                                 \n",
      " dropout_2 (Dropout)         (None, 1024)              0         \n",
      "                                                                 \n",
      " dense_1 (Dense)             (None, 7)                 7175      \n",
      "                                                                 \n",
      "=================================================================\n",
      "Total params: 2,345,607\n",
      "Trainable params: 2,345,607\n",
      "Non-trainable params: 0\n",
      "_________________________________________________________________\n"
     ]
    }
   ],
   "source": [
    "#summary of the model\n",
    "emotion_model.summary()"
   ]
  },
  {
   "cell_type": "code",
   "execution_count": 6,
   "id": "bc2cdfe2",
   "metadata": {},
   "outputs": [
    {
     "data": {
      "image/png": "[encoded data removed]",
      "text/plain": [
       "<IPython.core.display.Image object>"
      ]
     },
     "execution_count": 6,
     "metadata": {},
     "output_type": "execute_result"
    }
   ],
   "source": [
    "# to get the summary of the CNN architecture in a flow chart\n",
    "plot_model(emotion_model, show_layer_names=True)"
   ]
  },
  {
   "cell_type": "markdown",
   "id": "d8e0017d",
   "metadata": {},
   "source": [
    "Compile and train the model"
   ]
  },
  {
   "cell_type": "code",
   "execution_count": 7,
   "id": "d4b0c4f6",
   "metadata": {
    "scrolled": true
   },
   "outputs": [
    {
     "name": "stdout",
     "output_type": "stream",
     "text": [
      "Epoch 1/50\n"
     ]
    },
    {
     "name": "stderr",
     "output_type": "stream",
     "text": [
      "/opt/anaconda3/lib/python3.9/site-packages/keras/optimizers/optimizer_v2/adam.py:110: UserWarning: The `lr` argument is deprecated, use `learning_rate` instead.\n",
      "  super(Adam, self).__init__(name, **kwargs)\n",
      "/var/folders/b4/wfw2y_5n1b5g09w18cs4j5d40000gn/T/ipykernel_77907/3547462453.py:5: UserWarning: `Model.fit_generator` is deprecated and will be removed in a future version. Please use `Model.fit`, which supports generators.\n",
      "  emotion_model_info = emotion_model.fit_generator(\n"
     ]
    },
    {
     "name": "stdout",
     "output_type": "stream",
     "text": [
      "448/448 [==============================] - 118s 261ms/step - loss: 1.8043 - accuracy: 0.2580 - val_loss: 1.7217 - val_accuracy: 0.3305\n",
      "Epoch 2/50\n",
      "448/448 [==============================] - 119s 266ms/step - loss: 1.6408 - accuracy: 0.3594 - val_loss: 1.5479 - val_accuracy: 0.4170\n",
      "Epoch 3/50\n",
      "448/448 [==============================] - 111s 249ms/step - loss: 1.5334 - accuracy: 0.4082 - val_loss: 1.4663 - val_accuracy: 0.4442\n",
      "Epoch 4/50\n",
      "448/448 [==============================] - 119s 265ms/step - loss: 1.4602 - accuracy: 0.4446 - val_loss: 1.4077 - val_accuracy: 0.4700\n",
      "Epoch 5/50\n",
      "448/448 [==============================] - 120s 267ms/step - loss: 1.4033 - accuracy: 0.4683 - val_loss: 1.3512 - val_accuracy: 0.4884\n",
      "Epoch 6/50\n",
      "448/448 [==============================] - 118s 264ms/step - loss: 1.3505 - accuracy: 0.4892 - val_loss: 1.3099 - val_accuracy: 0.5029\n",
      "Epoch 7/50\n",
      "448/448 [==============================] - 116s 259ms/step - loss: 1.3081 - accuracy: 0.5041 - val_loss: 1.2767 - val_accuracy: 0.5144\n",
      "Epoch 8/50\n",
      "448/448 [==============================] - 117s 261ms/step - loss: 1.2695 - accuracy: 0.5232 - val_loss: 1.2575 - val_accuracy: 0.5246\n",
      "Epoch 9/50\n",
      "448/448 [==============================] - 114s 254ms/step - loss: 1.2358 - accuracy: 0.5338 - val_loss: 1.2188 - val_accuracy: 0.5361\n",
      "Epoch 10/50\n",
      "448/448 [==============================] - 107s 239ms/step - loss: 1.2031 - accuracy: 0.5486 - val_loss: 1.2013 - val_accuracy: 0.5469\n",
      "Epoch 11/50\n",
      "448/448 [==============================] - 111s 249ms/step - loss: 1.1776 - accuracy: 0.5593 - val_loss: 1.1932 - val_accuracy: 0.5483\n",
      "Epoch 12/50\n",
      "448/448 [==============================] - 117s 260ms/step - loss: 1.1485 - accuracy: 0.5680 - val_loss: 1.1716 - val_accuracy: 0.5568\n",
      "Epoch 13/50\n",
      "448/448 [==============================] - 112s 251ms/step - loss: 1.1251 - accuracy: 0.5784 - val_loss: 1.1480 - val_accuracy: 0.5603\n",
      "Epoch 14/50\n",
      "448/448 [==============================] - 119s 265ms/step - loss: 1.0947 - accuracy: 0.5912 - val_loss: 1.1385 - val_accuracy: 0.5686\n",
      "Epoch 15/50\n",
      "448/448 [==============================] - 115s 256ms/step - loss: 1.0759 - accuracy: 0.5994 - val_loss: 1.1289 - val_accuracy: 0.5744\n",
      "Epoch 16/50\n",
      "448/448 [==============================] - 113s 251ms/step - loss: 1.0544 - accuracy: 0.6079 - val_loss: 1.1230 - val_accuracy: 0.5752\n",
      "Epoch 17/50\n",
      "448/448 [==============================] - 116s 260ms/step - loss: 1.0326 - accuracy: 0.6172 - val_loss: 1.1054 - val_accuracy: 0.5794\n",
      "Epoch 18/50\n",
      "448/448 [==============================] - 117s 260ms/step - loss: 1.0060 - accuracy: 0.6261 - val_loss: 1.0939 - val_accuracy: 0.5894\n",
      "Epoch 19/50\n",
      "448/448 [==============================] - 115s 256ms/step - loss: 0.9827 - accuracy: 0.6342 - val_loss: 1.0915 - val_accuracy: 0.5879\n",
      "Epoch 20/50\n",
      "448/448 [==============================] - 112s 249ms/step - loss: 0.9659 - accuracy: 0.6427 - val_loss: 1.0861 - val_accuracy: 0.5964\n",
      "Epoch 21/50\n",
      "448/448 [==============================] - 112s 249ms/step - loss: 0.9383 - accuracy: 0.6525 - val_loss: 1.0752 - val_accuracy: 0.6018\n",
      "Epoch 22/50\n",
      "448/448 [==============================] - 115s 257ms/step - loss: 0.9166 - accuracy: 0.6625 - val_loss: 1.0772 - val_accuracy: 0.5972\n",
      "Epoch 23/50\n",
      "448/448 [==============================] - 117s 261ms/step - loss: 0.8989 - accuracy: 0.6687 - val_loss: 1.0788 - val_accuracy: 0.6049\n",
      "Epoch 24/50\n",
      "448/448 [==============================] - 118s 264ms/step - loss: 0.8731 - accuracy: 0.6770 - val_loss: 1.0705 - val_accuracy: 0.6027\n",
      "Epoch 25/50\n",
      "448/448 [==============================] - 117s 260ms/step - loss: 0.8485 - accuracy: 0.6854 - val_loss: 1.0663 - val_accuracy: 0.6085\n",
      "Epoch 26/50\n",
      "448/448 [==============================] - 114s 254ms/step - loss: 0.8307 - accuracy: 0.6928 - val_loss: 1.0537 - val_accuracy: 0.6105\n",
      "Epoch 27/50\n",
      "448/448 [==============================] - 117s 261ms/step - loss: 0.8098 - accuracy: 0.7055 - val_loss: 1.0646 - val_accuracy: 0.6115\n",
      "Epoch 28/50\n",
      "448/448 [==============================] - 118s 263ms/step - loss: 0.7890 - accuracy: 0.7102 - val_loss: 1.0795 - val_accuracy: 0.6081\n",
      "Epoch 29/50\n",
      "448/448 [==============================] - 113s 253ms/step - loss: 0.7682 - accuracy: 0.7196 - val_loss: 1.0667 - val_accuracy: 0.6157\n",
      "Epoch 30/50\n",
      "448/448 [==============================] - 117s 262ms/step - loss: 0.7435 - accuracy: 0.7287 - val_loss: 1.0617 - val_accuracy: 0.6116\n",
      "Epoch 31/50\n",
      "448/448 [==============================] - 111s 248ms/step - loss: 0.7256 - accuracy: 0.7334 - val_loss: 1.0650 - val_accuracy: 0.6204\n",
      "Epoch 32/50\n",
      "448/448 [==============================] - 107s 238ms/step - loss: 0.7031 - accuracy: 0.7447 - val_loss: 1.0759 - val_accuracy: 0.6134\n",
      "Epoch 33/50\n",
      "448/448 [==============================] - 106s 238ms/step - loss: 0.6794 - accuracy: 0.7509 - val_loss: 1.0730 - val_accuracy: 0.6168\n",
      "Epoch 34/50\n",
      "448/448 [==============================] - 113s 253ms/step - loss: 0.6687 - accuracy: 0.7565 - val_loss: 1.0649 - val_accuracy: 0.6205\n",
      "Epoch 35/50\n",
      "448/448 [==============================] - 118s 264ms/step - loss: 0.6395 - accuracy: 0.7679 - val_loss: 1.0833 - val_accuracy: 0.6183\n",
      "Epoch 36/50\n",
      "448/448 [==============================] - 107s 238ms/step - loss: 0.6199 - accuracy: 0.7753 - val_loss: 1.0953 - val_accuracy: 0.6215\n",
      "Epoch 37/50\n",
      "448/448 [==============================] - 109s 242ms/step - loss: 0.6020 - accuracy: 0.7836 - val_loss: 1.0863 - val_accuracy: 0.6211\n",
      "Epoch 38/50\n",
      "448/448 [==============================] - 106s 237ms/step - loss: 0.5838 - accuracy: 0.7893 - val_loss: 1.0945 - val_accuracy: 0.6233\n",
      "Epoch 39/50\n",
      "448/448 [==============================] - 108s 242ms/step - loss: 0.5673 - accuracy: 0.7947 - val_loss: 1.1062 - val_accuracy: 0.6246\n",
      "Epoch 40/50\n",
      "448/448 [==============================] - 113s 251ms/step - loss: 0.5546 - accuracy: 0.7982 - val_loss: 1.1108 - val_accuracy: 0.6239\n",
      "Epoch 41/50\n",
      "448/448 [==============================] - 117s 261ms/step - loss: 0.5299 - accuracy: 0.8112 - val_loss: 1.1404 - val_accuracy: 0.6240\n",
      "Epoch 42/50\n",
      "448/448 [==============================] - 118s 263ms/step - loss: 0.5142 - accuracy: 0.8131 - val_loss: 1.1162 - val_accuracy: 0.6251\n",
      "Epoch 43/50\n",
      "448/448 [==============================] - 116s 258ms/step - loss: 0.4979 - accuracy: 0.8177 - val_loss: 1.1132 - val_accuracy: 0.6261\n",
      "Epoch 44/50\n",
      "448/448 [==============================] - 119s 265ms/step - loss: 0.4817 - accuracy: 0.8261 - val_loss: 1.1341 - val_accuracy: 0.6278\n",
      "Epoch 45/50\n",
      "448/448 [==============================] - 119s 265ms/step - loss: 0.4676 - accuracy: 0.8303 - val_loss: 1.1493 - val_accuracy: 0.6277\n",
      "Epoch 46/50\n",
      "448/448 [==============================] - 117s 262ms/step - loss: 0.4538 - accuracy: 0.8371 - val_loss: 1.1453 - val_accuracy: 0.6230\n",
      "Epoch 47/50\n",
      "448/448 [==============================] - 113s 253ms/step - loss: 0.4402 - accuracy: 0.8418 - val_loss: 1.1667 - val_accuracy: 0.6264\n",
      "Epoch 48/50\n",
      "448/448 [==============================] - 118s 263ms/step - loss: 0.4244 - accuracy: 0.8472 - val_loss: 1.1646 - val_accuracy: 0.6290\n",
      "Epoch 49/50\n",
      "448/448 [==============================] - 112s 250ms/step - loss: 0.4104 - accuracy: 0.8531 - val_loss: 1.1546 - val_accuracy: 0.6289\n",
      "Epoch 50/50\n",
      "448/448 [==============================] - 108s 240ms/step - loss: 0.4003 - accuracy: 0.8569 - val_loss: 1.1805 - val_accuracy: 0.6331\n"
     ]
    }
   ],
   "source": [
    "#configures the model for training\n",
    "emotion_model.compile(loss='categorical_crossentropy',optimizer=Adam(lr=0.0001, decay=1e-6),metrics=['accuracy']) \n",
    "\n",
    "#training the model\n",
    "emotion_model_info = emotion_model.fit_generator(\n",
    "        train_generator,\n",
    "        steps_per_epoch=28709 // 64, #28709-training images\n",
    "        epochs=50,\n",
    "        validation_data=validation_generator, \n",
    "        validation_steps=7178 // 64) #7178-no. of validation images"
   ]
  },
  {
   "cell_type": "code",
   "execution_count": 8,
   "id": "6eadde66",
   "metadata": {},
   "outputs": [],
   "source": [
    "#saving the model weights\n",
    "emotion_model.save_weights('emotion_model.h5')"
   ]
  },
  {
   "cell_type": "code",
   "execution_count": 9,
   "id": "b62ccdc4",
   "metadata": {},
   "outputs": [],
   "source": [
    "# emotion_model.load_weights('emotion_model.h5')"
   ]
  },
  {
   "cell_type": "code",
   "execution_count": 10,
   "id": "a1af85ce",
   "metadata": {},
   "outputs": [
    {
     "data": {
      "image/png": "[encoded data removed]",
      "text/plain": [
       "<Figure size 640x480 with 1 Axes>"
      ]
     },
     "metadata": {},
     "output_type": "display_data"
    }
   ],
   "source": [
    "plt.plot(emotion_model_info.history['loss'])\n",
    "plt.plot(emotion_model_info.history['val_loss'])\n",
    "plt.title('Model Loss')\n",
    "plt.ylabel('Loss')\n",
    "plt.xlabel('Epochs')\n",
    "plt.legend(['train', 'validation'])\n",
    "plt.show()"
   ]
  },
  {
   "cell_type": "code",
   "execution_count": 11,
   "id": "5f39892a",
   "metadata": {},
   "outputs": [
    {
     "data": {
      "text/plain": [
       "<matplotlib.legend.Legend at 0x7fdfad407d00>"
      ]
     },
     "execution_count": 11,
     "metadata": {},
     "output_type": "execute_result"
    },
    {
     "data": {
      "image/png": "[encoded data removed]",
      "text/plain": [
       "<Figure size 640x480 with 1 Axes>"
      ]
     },
     "metadata": {},
     "output_type": "display_data"
    }
   ],
   "source": [
    "plt.plot(emotion_model_info.history['accuracy'])\n",
    "plt.plot(emotion_model_info.history['val_accuracy'])\n",
    "plt.title('model accuracy')\n",
    "plt.ylabel('accuracy')\n",
    "plt.xlabel('epoch')\n",
    "plt.legend(['train', 'test'], loc='upper right')"
   ]
  },
  {
   "cell_type": "markdown",
   "id": "d2326da8",
   "metadata": {},
   "source": [
    "From the graph we can infer that after 10 epochs, there is an occurrence of overfitting. "
   ]
  },
  {
   "cell_type": "markdown",
   "id": "0cd95002",
   "metadata": {},
   "source": [
    "##### Emotion Prediction and Song Recommendation"
   ]
  },
  {
   "cell_type": "code",
   "execution_count": 13,
   "id": "e6c645b4",
   "metadata": {},
   "outputs": [
    {
     "data": {
      "text/html": [
       "<div>\n",
       "<style scoped>\n",
       "    .dataframe tbody tr th:only-of-type {\n",
       "        vertical-align: middle;\n",
       "    }\n",
       "\n",
       "    .dataframe tbody tr th {\n",
       "        vertical-align: top;\n",
       "    }\n",
       "\n",
       "    .dataframe thead th {\n",
       "        text-align: right;\n",
       "    }\n",
       "</style>\n",
       "<table border=\"1\" class=\"dataframe\">\n",
       "  <thead>\n",
       "    <tr style=\"text-align: right;\">\n",
       "      <th></th>\n",
       "      <th>name</th>\n",
       "      <th>album</th>\n",
       "      <th>artist</th>\n",
       "      <th>id</th>\n",
       "      <th>release_date</th>\n",
       "      <th>popularity</th>\n",
       "      <th>length</th>\n",
       "      <th>danceability</th>\n",
       "      <th>acousticness</th>\n",
       "      <th>energy</th>\n",
       "      <th>instrumentalness</th>\n",
       "      <th>liveness</th>\n",
       "      <th>valence</th>\n",
       "      <th>loudness</th>\n",
       "      <th>speechiness</th>\n",
       "      <th>tempo</th>\n",
       "      <th>key</th>\n",
       "      <th>time_signature</th>\n",
       "      <th>mood</th>\n",
       "    </tr>\n",
       "  </thead>\n",
       "  <tbody>\n",
       "    <tr>\n",
       "      <th>0</th>\n",
       "      <td>1999</td>\n",
       "      <td>1999</td>\n",
       "      <td>Prince</td>\n",
       "      <td>2H7PHVdQ3mXqEHXcvclTB0</td>\n",
       "      <td>1982-10-27</td>\n",
       "      <td>68</td>\n",
       "      <td>379266</td>\n",
       "      <td>0.866</td>\n",
       "      <td>0.13700</td>\n",
       "      <td>0.730</td>\n",
       "      <td>0.000000</td>\n",
       "      <td>0.0843</td>\n",
       "      <td>0.625</td>\n",
       "      <td>-8.201</td>\n",
       "      <td>0.0767</td>\n",
       "      <td>118.523</td>\n",
       "      <td>5</td>\n",
       "      <td>4</td>\n",
       "      <td>Happy</td>\n",
       "    </tr>\n",
       "    <tr>\n",
       "      <th>1</th>\n",
       "      <td>23</td>\n",
       "      <td>23</td>\n",
       "      <td>Blonde Redhead</td>\n",
       "      <td>4HIwL9ii9CcXpTOTzMq0MP</td>\n",
       "      <td>2007-04-16</td>\n",
       "      <td>43</td>\n",
       "      <td>318800</td>\n",
       "      <td>0.381</td>\n",
       "      <td>0.01890</td>\n",
       "      <td>0.832</td>\n",
       "      <td>0.196000</td>\n",
       "      <td>0.1530</td>\n",
       "      <td>0.166</td>\n",
       "      <td>-5.069</td>\n",
       "      <td>0.0492</td>\n",
       "      <td>120.255</td>\n",
       "      <td>8</td>\n",
       "      <td>4</td>\n",
       "      <td>Sad</td>\n",
       "    </tr>\n",
       "    <tr>\n",
       "      <th>2</th>\n",
       "      <td>9 Crimes</td>\n",
       "      <td>9</td>\n",
       "      <td>Damien Rice</td>\n",
       "      <td>5GZEeowhvSieFDiR8fQ2im</td>\n",
       "      <td>2006-11-06</td>\n",
       "      <td>60</td>\n",
       "      <td>217946</td>\n",
       "      <td>0.346</td>\n",
       "      <td>0.91300</td>\n",
       "      <td>0.139</td>\n",
       "      <td>0.000077</td>\n",
       "      <td>0.0934</td>\n",
       "      <td>0.116</td>\n",
       "      <td>-15.326</td>\n",
       "      <td>0.0321</td>\n",
       "      <td>136.168</td>\n",
       "      <td>0</td>\n",
       "      <td>4</td>\n",
       "      <td>Sad</td>\n",
       "    </tr>\n",
       "    <tr>\n",
       "      <th>3</th>\n",
       "      <td>99 Luftballons</td>\n",
       "      <td>99 Luftballons</td>\n",
       "      <td>Nena</td>\n",
       "      <td>6HA97v4wEGQ5TUClRM0XLc</td>\n",
       "      <td>1984-08-21</td>\n",
       "      <td>2</td>\n",
       "      <td>233000</td>\n",
       "      <td>0.466</td>\n",
       "      <td>0.08900</td>\n",
       "      <td>0.438</td>\n",
       "      <td>0.000006</td>\n",
       "      <td>0.1130</td>\n",
       "      <td>0.587</td>\n",
       "      <td>-12.858</td>\n",
       "      <td>0.0608</td>\n",
       "      <td>193.100</td>\n",
       "      <td>4</td>\n",
       "      <td>4</td>\n",
       "      <td>Happy</td>\n",
       "    </tr>\n",
       "    <tr>\n",
       "      <th>4</th>\n",
       "      <td>A Boy Brushed Red Living In Black And White</td>\n",
       "      <td>They're Only Chasing Safety</td>\n",
       "      <td>Underoath</td>\n",
       "      <td>47IWLfIKOKhFnz1FUEUIkE</td>\n",
       "      <td>2004-01-01</td>\n",
       "      <td>60</td>\n",
       "      <td>268000</td>\n",
       "      <td>0.419</td>\n",
       "      <td>0.00171</td>\n",
       "      <td>0.932</td>\n",
       "      <td>0.000000</td>\n",
       "      <td>0.1370</td>\n",
       "      <td>0.445</td>\n",
       "      <td>-3.604</td>\n",
       "      <td>0.1060</td>\n",
       "      <td>169.881</td>\n",
       "      <td>1</td>\n",
       "      <td>4</td>\n",
       "      <td>Energetic</td>\n",
       "    </tr>\n",
       "  </tbody>\n",
       "</table>\n",
       "</div>"
      ],
      "text/plain": [
       "                                          name                        album  \\\n",
       "0                                         1999                         1999   \n",
       "1                                           23                           23   \n",
       "2                                     9 Crimes                            9   \n",
       "3                               99 Luftballons               99 Luftballons   \n",
       "4  A Boy Brushed Red Living In Black And White  They're Only Chasing Safety   \n",
       "\n",
       "           artist                      id release_date  popularity  length  \\\n",
       "0          Prince  2H7PHVdQ3mXqEHXcvclTB0   1982-10-27          68  379266   \n",
       "1  Blonde Redhead  4HIwL9ii9CcXpTOTzMq0MP   2007-04-16          43  318800   \n",
       "2     Damien Rice  5GZEeowhvSieFDiR8fQ2im   2006-11-06          60  217946   \n",
       "3            Nena  6HA97v4wEGQ5TUClRM0XLc   1984-08-21           2  233000   \n",
       "4       Underoath  47IWLfIKOKhFnz1FUEUIkE   2004-01-01          60  268000   \n",
       "\n",
       "   danceability  acousticness  energy  instrumentalness  liveness  valence  \\\n",
       "0         0.866       0.13700   0.730          0.000000    0.0843    0.625   \n",
       "1         0.381       0.01890   0.832          0.196000    0.1530    0.166   \n",
       "2         0.346       0.91300   0.139          0.000077    0.0934    0.116   \n",
       "3         0.466       0.08900   0.438          0.000006    0.1130    0.587   \n",
       "4         0.419       0.00171   0.932          0.000000    0.1370    0.445   \n",
       "\n",
       "   loudness  speechiness    tempo  key  time_signature       mood  \n",
       "0    -8.201       0.0767  118.523    5               4      Happy  \n",
       "1    -5.069       0.0492  120.255    8               4        Sad  \n",
       "2   -15.326       0.0321  136.168    0               4        Sad  \n",
       "3   -12.858       0.0608  193.100    4               4      Happy  \n",
       "4    -3.604       0.1060  169.881    1               4  Energetic  "
      ]
     },
     "execution_count": 13,
     "metadata": {},
     "output_type": "execute_result"
    }
   ],
   "source": [
    "#reading music data\n",
    "music_data = pd.read_csv(\"./data/data_moods.csv\")\n",
    "music_data.head()"
   ]
  },
  {
   "cell_type": "code",
   "execution_count": 14,
   "id": "19bcdba0",
   "metadata": {},
   "outputs": [
    {
     "data": {
      "text/html": [
       "<div>\n",
       "<style scoped>\n",
       "    .dataframe tbody tr th:only-of-type {\n",
       "        vertical-align: middle;\n",
       "    }\n",
       "\n",
       "    .dataframe tbody tr th {\n",
       "        vertical-align: top;\n",
       "    }\n",
       "\n",
       "    .dataframe thead th {\n",
       "        text-align: right;\n",
       "    }\n",
       "</style>\n",
       "<table border=\"1\" class=\"dataframe\">\n",
       "  <thead>\n",
       "    <tr style=\"text-align: right;\">\n",
       "      <th></th>\n",
       "      <th>name</th>\n",
       "      <th>artist</th>\n",
       "      <th>popularity</th>\n",
       "      <th>mood</th>\n",
       "      <th>id</th>\n",
       "    </tr>\n",
       "  </thead>\n",
       "  <tbody>\n",
       "    <tr>\n",
       "      <th>0</th>\n",
       "      <td>1999</td>\n",
       "      <td>Prince</td>\n",
       "      <td>68</td>\n",
       "      <td>Happy</td>\n",
       "      <td>2H7PHVdQ3mXqEHXcvclTB0</td>\n",
       "    </tr>\n",
       "    <tr>\n",
       "      <th>1</th>\n",
       "      <td>23</td>\n",
       "      <td>Blonde Redhead</td>\n",
       "      <td>43</td>\n",
       "      <td>Sad</td>\n",
       "      <td>4HIwL9ii9CcXpTOTzMq0MP</td>\n",
       "    </tr>\n",
       "    <tr>\n",
       "      <th>2</th>\n",
       "      <td>9 Crimes</td>\n",
       "      <td>Damien Rice</td>\n",
       "      <td>60</td>\n",
       "      <td>Sad</td>\n",
       "      <td>5GZEeowhvSieFDiR8fQ2im</td>\n",
       "    </tr>\n",
       "    <tr>\n",
       "      <th>3</th>\n",
       "      <td>99 Luftballons</td>\n",
       "      <td>Nena</td>\n",
       "      <td>2</td>\n",
       "      <td>Happy</td>\n",
       "      <td>6HA97v4wEGQ5TUClRM0XLc</td>\n",
       "    </tr>\n",
       "    <tr>\n",
       "      <th>4</th>\n",
       "      <td>A Boy Brushed Red Living In Black And White</td>\n",
       "      <td>Underoath</td>\n",
       "      <td>60</td>\n",
       "      <td>Energetic</td>\n",
       "      <td>47IWLfIKOKhFnz1FUEUIkE</td>\n",
       "    </tr>\n",
       "  </tbody>\n",
       "</table>\n",
       "</div>"
      ],
      "text/plain": [
       "                                          name          artist  popularity  \\\n",
       "0                                         1999          Prince          68   \n",
       "1                                           23  Blonde Redhead          43   \n",
       "2                                     9 Crimes     Damien Rice          60   \n",
       "3                               99 Luftballons            Nena           2   \n",
       "4  A Boy Brushed Red Living In Black And White       Underoath          60   \n",
       "\n",
       "        mood                      id  \n",
       "0      Happy  2H7PHVdQ3mXqEHXcvclTB0  \n",
       "1        Sad  4HIwL9ii9CcXpTOTzMq0MP  \n",
       "2        Sad  5GZEeowhvSieFDiR8fQ2im  \n",
       "3      Happy  6HA97v4wEGQ5TUClRM0XLc  \n",
       "4  Energetic  47IWLfIKOKhFnz1FUEUIkE  "
      ]
     },
     "execution_count": 14,
     "metadata": {},
     "output_type": "execute_result"
    }
   ],
   "source": [
    "#keeping relevant columns alone\n",
    "music_data = music_data[['name','artist','popularity','mood','id']]\n",
    "music_data.head()"
   ]
  },
  {
   "cell_type": "code",
   "execution_count": 15,
   "id": "873bfb29",
   "metadata": {},
   "outputs": [
    {
     "data": {
      "text/plain": [
       "Sad          197\n",
       "Calm         195\n",
       "Energetic    154\n",
       "Happy        140\n",
       "Name: mood, dtype: int64"
      ]
     },
     "execution_count": 15,
     "metadata": {},
     "output_type": "execute_result"
    }
   ],
   "source": [
    "#looking for categories present in mood feature\n",
    "music_data['mood'].value_counts()"
   ]
  },
  {
   "cell_type": "markdown",
   "id": "3a824c06",
   "metadata": {},
   "source": [
    " Using openCV haarcascade xml detect the bounding boxes of face in the webcam and predict the emotions"
   ]
  },
  {
   "cell_type": "code",
   "execution_count": 16,
   "id": "5e6905a0",
   "metadata": {},
   "outputs": [],
   "source": [
    "#mapping values to each emotion class\n",
    "emotion_dict = {0: \"Angry\", 1: \"Disgusted\", 2: \"Fearful\", 3: \"Happy\", 4: \"Neutral\", 5: \"Sad\", 6: \"Surprised\"}"
   ]
  },
  {
   "cell_type": "code",
   "execution_count": 19,
   "id": "2c056eb0",
   "metadata": {},
   "outputs": [
    {
     "data": {
      "application/vnd.jupyter.widget-view+json": {
       "model_id": "86d02e052c9149688d0424608a17d6df",
       "version_major": 2,
       "version_minor": 0
      },
      "text/plain": [
       "HBox(children=(Button(button_style='danger', description='Stop', style=ButtonStyle()), HBox(children=(Label(va…"
      ]
     },
     "metadata": {},
     "output_type": "display_data"
    },
    {
     "data": {
      "application/vnd.jupyter.widget-view+json": {
       "model_id": "21091786f6074e4392cbb1dcc66c8f54",
       "version_major": 2,
       "version_minor": 0
      },
      "text/plain": [
       "HBox(children=(Button(button_style='danger', description='Stop', style=ButtonStyle()), HBox(children=(Label(va…"
      ]
     },
     "metadata": {},
     "output_type": "display_data"
    },
    {
     "data": {
      "application/vnd.jupyter.widget-view+json": {
       "model_id": "939f41c038cf41bea8d8e03f5d834025",
       "version_major": 2,
       "version_minor": 0
      },
      "text/plain": [
       "VBox(children=(HTML(value='<center>Video</center>'), Canvas()), layout=Layout(border='1.5px solid', width='fit…"
      ]
     },
     "metadata": {},
     "output_type": "display_data"
    },
    {
     "name": "stdout",
     "output_type": "stream",
     "text": [
      "1/1 [==============================] - 0s 16ms/step\n",
      "1/1 [==============================] - 0s 17ms/step\n",
      "1/1 [==============================] - 0s 16ms/step\n",
      "1/1 [==============================] - 0s 17ms/step\n",
      "1/1 [==============================] - 0s 17ms/step\n",
      "1/1 [==============================] - 0s 16ms/step\n",
      "1/1 [==============================] - 0s 15ms/step\n",
      "1/1 [==============================] - 0s 17ms/step\n",
      "1/1 [==============================] - 0s 17ms/step\n",
      "1/1 [==============================] - 0s 16ms/step\n",
      "1/1 [==============================] - 0s 16ms/step\n",
      "1/1 [==============================] - 0s 16ms/step\n",
      "1/1 [==============================] - 0s 17ms/step\n",
      "1/1 [==============================] - 0s 16ms/step\n",
      "1/1 [==============================] - 0s 16ms/step\n",
      "1/1 [==============================] - 0s 16ms/step\n",
      "1/1 [==============================] - 0s 16ms/step\n",
      "1/1 [==============================] - 0s 16ms/step\n",
      "1/1 [==============================] - 0s 15ms/step\n",
      "1/1 [==============================] - 0s 16ms/step\n",
      "1/1 [==============================] - 0s 16ms/step\n",
      "1/1 [==============================] - 0s 15ms/step\n",
      "1/1 [==============================] - 0s 15ms/step\n",
      "1/1 [==============================] - 0s 16ms/step\n",
      "1/1 [==============================] - 0s 16ms/step\n",
      "1/1 [==============================] - 0s 16ms/step\n",
      "1/1 [==============================] - 0s 16ms/step\n",
      "1/1 [==============================] - 0s 16ms/step\n",
      "1/1 [==============================] - 0s 15ms/step\n",
      "1/1 [==============================] - 0s 16ms/step\n",
      "1/1 [==============================] - 0s 16ms/step\n",
      "1/1 [==============================] - 0s 15ms/step\n",
      "1/1 [==============================] - 0s 16ms/step\n",
      "1/1 [==============================] - 0s 16ms/step\n",
      "1/1 [==============================] - 0s 16ms/step\n",
      "1/1 [==============================] - 0s 16ms/step\n",
      "1/1 [==============================] - 0s 16ms/step\n",
      "1/1 [==============================] - 0s 15ms/step\n",
      "1/1 [==============================] - 0s 16ms/step\n",
      "1/1 [==============================] - 0s 16ms/step\n",
      "1/1 [==============================] - 0s 16ms/step\n",
      "1/1 [==============================] - 0s 16ms/step\n",
      "1/1 [==============================] - 0s 18ms/step\n",
      "1/1 [==============================] - 0s 16ms/step\n",
      "1/1 [==============================] - 0s 19ms/step\n",
      "1/1 [==============================] - 0s 16ms/step\n",
      "1/1 [==============================] - 0s 16ms/step\n",
      "1/1 [==============================] - 0s 16ms/step\n",
      "1/1 [==============================] - 0s 16ms/step\n",
      "1/1 [==============================] - 0s 16ms/step\n",
      "1/1 [==============================] - 0s 16ms/step\n",
      "1/1 [==============================] - 0s 16ms/step\n",
      "1/1 [==============================] - 0s 16ms/step\n",
      "1/1 [==============================] - 0s 16ms/step\n",
      "1/1 [==============================] - 0s 16ms/step\n",
      "1/1 [==============================] - 0s 15ms/step\n",
      "1/1 [==============================] - 0s 16ms/step\n",
      "1/1 [==============================] - 0s 16ms/step\n",
      "1/1 [==============================] - 0s 16ms/step\n",
      "1/1 [==============================] - 0s 17ms/step\n",
      "1/1 [==============================] - 0s 16ms/step\n",
      "1/1 [==============================] - 0s 16ms/step\n",
      "1/1 [==============================] - 0s 16ms/step\n",
      "1/1 [==============================] - 0s 16ms/step\n",
      "1/1 [==============================] - 0s 17ms/step\n",
      "1/1 [==============================] - 0s 16ms/step\n",
      "1/1 [==============================] - 0s 17ms/step\n",
      "1/1 [==============================] - 0s 17ms/step\n",
      "1/1 [==============================] - 0s 16ms/step\n",
      "1/1 [==============================] - 0s 18ms/step\n",
      "1/1 [==============================] - 0s 16ms/step\n",
      "1/1 [==============================] - 0s 17ms/step\n",
      "1/1 [==============================] - 0s 16ms/step\n",
      "1/1 [==============================] - 0s 16ms/step\n",
      "1/1 [==============================] - 0s 18ms/step\n",
      "1/1 [==============================] - 0s 16ms/step\n",
      "1/1 [==============================] - 0s 16ms/step\n",
      "1/1 [==============================] - 0s 18ms/step\n",
      "1/1 [==============================] - 0s 18ms/step\n",
      "1/1 [==============================] - 0s 16ms/step\n",
      "1/1 [==============================] - 0s 18ms/step\n",
      "1/1 [==============================] - 0s 16ms/step\n",
      "1/1 [==============================] - 0s 16ms/step\n",
      "1/1 [==============================] - 0s 16ms/step\n",
      "1/1 [==============================] - 0s 17ms/step\n",
      "1/1 [==============================] - 0s 15ms/step\n",
      "1/1 [==============================] - 0s 16ms/step\n",
      "1/1 [==============================] - 0s 17ms/step\n",
      "1/1 [==============================] - 0s 16ms/step\n",
      "1/1 [==============================] - 0s 18ms/step\n",
      "1/1 [==============================] - 0s 18ms/step\n",
      "1/1 [==============================] - 0s 16ms/step\n",
      "1/1 [==============================] - 0s 16ms/step\n",
      "1/1 [==============================] - 0s 17ms/step\n",
      "1/1 [==============================] - 0s 18ms/step\n",
      "1/1 [==============================] - 0s 17ms/step\n",
      "1/1 [==============================] - 0s 18ms/step\n",
      "1/1 [==============================] - 0s 17ms/step\n",
      "1/1 [==============================] - 0s 18ms/step\n",
      "1/1 [==============================] - 0s 16ms/step\n",
      "1/1 [==============================] - 0s 17ms/step\n",
      "1/1 [==============================] - 0s 16ms/step\n",
      "1/1 [==============================] - 0s 18ms/step\n",
      "1/1 [==============================] - 0s 16ms/step\n",
      "Exection is stopped\n"
     ]
    }
   ],
   "source": [
    "#for accessing webcam and quitting it using jupyter opencv\n",
    "import opencv_jupyter_ui as jcv2\n",
    "\n",
    "#0-used for my webcam\n",
    "cap = cv2.VideoCapture(0)\n",
    "\n",
    "if not cap.isOpened():\n",
    "    print(\"Cannot open camera\")\n",
    "    exit()\n",
    "    \n",
    "while True:\n",
    "    #capture frame-by-frame\n",
    "    ret, frame = cap.read()\n",
    "    #if frame is read correctly ret is true\n",
    "    if not ret:\n",
    "        break\n",
    "    bounding_box = cv2.CascadeClassifier('./data/haarcascade_frontalface_default.xml')\n",
    "    #operations on the frame\n",
    "    gray_frame = cv2.cvtColor(frame, cv2.COLOR_BGR2GRAY)\n",
    "    #to find faces\n",
    "    num_faces = bounding_box.detectMultiScale(gray_frame,scaleFactor=1.3, minNeighbors=5)\n",
    "    for (x, y, w, h) in num_faces:\n",
    "        cv2.rectangle(frame, (x, y-50), (x+w, y+h+10), (255, 0, 0), 2)\n",
    "        roi_gray_frame = gray_frame[y:y + h, x:x + w]\n",
    "        cropped_img = np.expand_dims(np.expand_dims(cv2.resize(roi_gray_frame, (48, 48)), -1), 0)\n",
    "        #predicting the emotion\n",
    "        emotion_prediction = emotion_model.predict(cropped_img)\n",
    "        maxindex = int(np.argmax(emotion_prediction))\n",
    "        \n",
    "        #based on the emotions - song recommendations\n",
    "        if maxindex == 0 or maxindex == 2: #if mood is angry or fearful recommend calm music\n",
    "            music = music_data[music_data['mood'] =='Calm']\n",
    "            songs = music.sort_values(by=\"popularity\", ascending=False)\n",
    "            songs = songs[:5].reset_index(drop=True) #display top 5 calm songs that's most popular\n",
    "            song_names = songs[['name','mood']].iloc[0] #storing the name of the song and mood of the most popular one\n",
    "            song_name = str(song_names[0]) #only the name of the most popular music\n",
    "            mood = str(song_names[1]) #the mood of the song recommended\n",
    "            track_id = music_data.loc[music_data['name']==song_name, 'id'].item() #storing the track id of that song\n",
    "#             display(songs)\n",
    "\n",
    "        elif maxindex == 3 or maxindex == 4 or maxindex == 5: #if mood is happy or neutral or sad play happy songs\n",
    "            music = music_data[music_data['mood'] =='Happy']\n",
    "            songs = music.sort_values(by=\"popularity\", ascending=False)\n",
    "            songs = songs[:5].reset_index(drop=True) #display top 5 happy songs that's most popular\n",
    "            song_names = songs[['name','mood']].iloc[0] #storing the name of the song and mood of the most popular one\n",
    "            song_name = str(song_names[0]) #only the name of the most popular music\n",
    "            mood = str(song_names[1]) #the mood of the song recommended\n",
    "            track_id = music_data.loc[music_data['name']==song_name, 'id'].item() #storing the track id of that song\n",
    "#             display(songs)\n",
    "\n",
    "        elif maxindex == 6: #if mood is surprised then play energetic songs\n",
    "            music = music_data[music_data['mood'] =='Energetic']\n",
    "            songs = music.sort_values(by=\"popularity\", ascending=False)\n",
    "            songs = songs[:5].reset_index(drop=True) #display top 5 energetic songs that's most popular\n",
    "            song_names = songs[['name','mood']].iloc[0] #storing the name of the song and mood of the most popular one\n",
    "            song_name = str(song_names[0]) #only the name of the most popular music\n",
    "            mood = str(song_names[1]) #the mood of the song recommended\n",
    "            track_id = music_data.loc[music_data['name']==song_name, 'id'].item() #storing the track id of that song\n",
    "#             display(songs)\n",
    "\n",
    "        elif maxindex == 1: #if you're disgusted play sad song\n",
    "            music = music_data[music_data['mood'] =='Sad']\n",
    "            songs = music.sort_values(by=\"popularity\", ascending=False)\n",
    "            songs = songs[:5].reset_index(drop=True) #display top 5 sad songs that's most popular\n",
    "            song_names = songs[['name','mood']].iloc[0] #storing the name of the song and mood of the most popular one\n",
    "            song_name = str(song_names[0]) #only the name of the most popular music\n",
    "            mood = str(song_names[1]) #the mood of the song recommended\n",
    "            track_id = music_data.loc[music_data['name']==song_name, 'id'].item() #storing the track id of that song\n",
    "#             display(songs)\n",
    "         \n",
    "        cv2.putText(frame, emotion_dict[maxindex], (x+20, y-60), cv2.FONT_HERSHEY_SIMPLEX, 1, (255, 255, 255), 2, cv2.LINE_AA)\n",
    "        #recommends the mood\n",
    "        cv2.putText(frame, song_name, (x+40, y-80), cv2.FONT_HERSHEY_SIMPLEX, 1, (255, 240, 240), 2, cv2.LINE_AA)\n",
    "        #recommends the most popular song of that mood\n",
    "        cv2.putText(frame, mood, (x+60, y-100), cv2.FONT_HERSHEY_SIMPLEX, 1, (255, 200, 200), 2, cv2.LINE_AA)\n",
    "        \n",
    "    #display the resulting frame\n",
    "    jcv2.imshow('Video', cv2.resize(frame,(1200,860),interpolation = cv2.INTER_CUBIC))\n",
    "    if jcv2.waitKey(1)==ord('q'):\n",
    "        break\n",
    " "
   ]
  },
  {
   "cell_type": "code",
   "execution_count": 20,
   "id": "03759ee1",
   "metadata": {},
   "outputs": [],
   "source": [
    "# When everything done, release the capture\n",
    "cap.release()\n",
    "jcv2.destroyAllWindows()\n",
    "cv2.destroyAllWindows()"
   ]
  },
  {
   "cell_type": "code",
   "execution_count": 22,
   "id": "ceca320b",
   "metadata": {},
   "outputs": [
    {
     "name": "stderr",
     "output_type": "stream",
     "text": [
      "/var/folders/b4/wfw2y_5n1b5g09w18cs4j5d40000gn/T/ipykernel_77907/2664815398.py:14: DeprecationWarning: You're using 'as_dict = True'.get_access_token will return the token string directly in future versions. Please adjust your code accordingly, or use get_cached_token instead.\n",
      "  token_dict = oauth_object.get_access_token()\n"
     ]
    },
    {
     "name": "stdout",
     "output_type": "stream",
     "text": [
      "{\n",
      "    \"devices\": [\n",
      "        {\n",
      "            \"id\": \"714558c451ced2488a0db7d2f9fbb6013fbf05af\",\n",
      "            \"is_active\": false,\n",
      "            \"is_private_session\": false,\n",
      "            \"is_restricted\": false,\n",
      "            \"name\": \"Amrutha\\u2019s MacBook Pro\",\n",
      "            \"type\": \"Computer\",\n",
      "            \"volume_percent\": 100\n",
      "        }\n",
      "    ]\n",
      "}\n"
     ]
    }
   ],
   "source": [
    "#for song recommendation and playing at Spotify\n",
    "#my spotify app details\n",
    "username = 'your_username' #add user's username\n",
    "clientID = 'your_clientid' #add user's clientID \n",
    "clientSecret = 'your_clientsecretid' #add user's client secret id\n",
    "redirectURI = 'http://google.com/'\n",
    "\n",
    "#permissions\n",
    "scope = 'user-read-private user-read-playback-state user-modify-playback-state'\n",
    "\n",
    "# Create OAuth Object\n",
    "oauth_object = spotipy.SpotifyOAuth(clientID,clientSecret,redirectURI, scope=scope)\n",
    "# Create token\n",
    "token_dict = oauth_object.get_access_token()\n",
    "token = token_dict['access_token']\n",
    "\n",
    "# Create Spotify Object\n",
    "spotifyObject = spotipy.Spotify(auth=token)\n",
    "\n",
    "#get current device\n",
    "devices = spotifyObject.devices()\n",
    "print(json.dumps(devices, sort_keys=True, indent=4)) #printing json of devices to find where the key was\n",
    "deviceID = devices['devices'][0]['id'] #my laptop - where spotify is open\n",
    "\n",
    "#goes to spotify app in my desktop plays the recommended song\n",
    "spotifyObject.start_playback(deviceID, uris=[f'spotify:track:{track_id}'])"
   ]
  },
  {
   "cell_type": "code",
   "execution_count": 23,
   "id": "8307d5a7",
   "metadata": {},
   "outputs": [
    {
     "data": {
      "text/html": [
       "<div>\n",
       "<style scoped>\n",
       "    .dataframe tbody tr th:only-of-type {\n",
       "        vertical-align: middle;\n",
       "    }\n",
       "\n",
       "    .dataframe tbody tr th {\n",
       "        vertical-align: top;\n",
       "    }\n",
       "\n",
       "    .dataframe thead th {\n",
       "        text-align: right;\n",
       "    }\n",
       "</style>\n",
       "<table border=\"1\" class=\"dataframe\">\n",
       "  <thead>\n",
       "    <tr style=\"text-align: right;\">\n",
       "      <th></th>\n",
       "      <th>name</th>\n",
       "      <th>artist</th>\n",
       "      <th>popularity</th>\n",
       "      <th>mood</th>\n",
       "      <th>id</th>\n",
       "    </tr>\n",
       "  </thead>\n",
       "  <tbody>\n",
       "    <tr>\n",
       "      <th>0</th>\n",
       "      <td>Pumped Up Kicks</td>\n",
       "      <td>Foster The People</td>\n",
       "      <td>84</td>\n",
       "      <td>Happy</td>\n",
       "      <td>7w87IxuO7BDcJ3YUqCyMTT</td>\n",
       "    </tr>\n",
       "    <tr>\n",
       "      <th>1</th>\n",
       "      <td>Africa</td>\n",
       "      <td>TOTO</td>\n",
       "      <td>84</td>\n",
       "      <td>Happy</td>\n",
       "      <td>2374M0fQpWi3dLnB54qaLX</td>\n",
       "    </tr>\n",
       "    <tr>\n",
       "      <th>2</th>\n",
       "      <td>Take on Me</td>\n",
       "      <td>a-ha</td>\n",
       "      <td>84</td>\n",
       "      <td>Happy</td>\n",
       "      <td>2WfaOiMkCvy7F5fcp2zZ8L</td>\n",
       "    </tr>\n",
       "    <tr>\n",
       "      <th>3</th>\n",
       "      <td>Highway to Hell</td>\n",
       "      <td>AC/DC</td>\n",
       "      <td>83</td>\n",
       "      <td>Happy</td>\n",
       "      <td>2zYzyRzz6pRmhPzyfMEC8s</td>\n",
       "    </tr>\n",
       "    <tr>\n",
       "      <th>4</th>\n",
       "      <td>Here Comes The Sun - Remastered 2009</td>\n",
       "      <td>The Beatles</td>\n",
       "      <td>83</td>\n",
       "      <td>Happy</td>\n",
       "      <td>6dGnYIeXmHdcikdzNNDMm2</td>\n",
       "    </tr>\n",
       "  </tbody>\n",
       "</table>\n",
       "</div>"
      ],
      "text/plain": [
       "                                   name             artist  popularity   mood  \\\n",
       "0                       Pumped Up Kicks  Foster The People          84  Happy   \n",
       "1                                Africa               TOTO          84  Happy   \n",
       "2                            Take on Me               a-ha          84  Happy   \n",
       "3                       Highway to Hell              AC/DC          83  Happy   \n",
       "4  Here Comes The Sun - Remastered 2009        The Beatles          83  Happy   \n",
       "\n",
       "                       id  \n",
       "0  7w87IxuO7BDcJ3YUqCyMTT  \n",
       "1  2374M0fQpWi3dLnB54qaLX  \n",
       "2  2WfaOiMkCvy7F5fcp2zZ8L  \n",
       "3  2zYzyRzz6pRmhPzyfMEC8s  \n",
       "4  6dGnYIeXmHdcikdzNNDMm2  "
      ]
     },
     "metadata": {},
     "output_type": "display_data"
    }
   ],
   "source": [
    "#displays 5 most popular songs for the mood detected or recommends the 5 popular songs\n",
    "display(songs)"
   ]
  }
 ],
 "metadata": {
  "kernelspec": {
   "display_name": "Python 3 (ipykernel)",
   "language": "python",
   "name": "python3"
  },
  "language_info": {
   "codemirror_mode": {
    "name": "ipython",
    "version": 3
   },
   "file_extension": ".py",
   "mimetype": "text/x-python",
   "name": "python",
   "nbconvert_exporter": "python",
   "pygments_lexer": "ipython3",
   "version": "3.9.13"
  },
  "vscode": {
   "interpreter": {
    "hash": "aee8b7b246df8f9039afb4144a1f6fd8d2ca17a180786b69acc140d282b71a49"
   }
  }
 },
 "nbformat": 4,
 "nbformat_minor": 5
}
